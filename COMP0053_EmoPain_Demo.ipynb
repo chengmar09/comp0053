{
  "nbformat": 4,
  "nbformat_minor": 0,
  "metadata": {
    "colab": {
      "name": "COMP0053-EmoPain-Demo.ipynb",
      "provenance": [],
      "collapsed_sections": [],
      "toc_visible": true
    },
    "kernelspec": {
      "name": "python3",
      "display_name": "Python 3"
    }
  },
  "cells": [
    {
      "cell_type": "markdown",
      "metadata": {
        "id": "hijDC1M5lcDq",
        "colab_type": "text"
      },
      "source": [
        "\n",
        "\n",
        "```\n",
        "The Notebook can be loaded from this link:\n",
        "https://colab.research.google.com/drive/11TtbhN4nuvCMn-VqsL65Cf9AZL8yx-yv\n",
        "```\n",
        "\n"
      ]
    },
    {
      "cell_type": "code",
      "metadata": {
        "id": "4UKEZI8FHf7h",
        "colab_type": "code",
        "outputId": "94c2ee47-d4ac-4a02-8d7d-b3cdd156201b",
        "colab": {
          "base_uri": "https://localhost:8080/",
          "height": 156
        }
      },
      "source": [
        "import os\n",
        "from getpass import getpass\n",
        "user = getpass('GitHub user')\n",
        "password = getpass('GitHub password')\n",
        "os.environ['GITHUB_AUTH'] = user + ':' + password\n",
        "!git clone https://$GITHUB_AUTH@github.com/chengmar09/comp0053.git  "
      ],
      "execution_count": 1,
      "outputs": [
        {
          "output_type": "stream",
          "text": [
            "GitHub user··········\n",
            "GitHub password··········\n",
            "Cloning into 'comp0053'...\n",
            "remote: Enumerating objects: 46, done.\u001b[K\n",
            "remote: Counting objects: 100% (46/46), done.\u001b[K\n",
            "remote: Compressing objects: 100% (30/30), done.\u001b[K\n",
            "remote: Total 46 (delta 20), reused 30 (delta 10), pack-reused 0\u001b[K\n",
            "Unpacking objects: 100% (46/46), done.\n"
          ],
          "name": "stdout"
        }
      ]
    },
    {
      "cell_type": "code",
      "metadata": {
        "id": "c-juQQP9JeIH",
        "colab_type": "code",
        "outputId": "1d48c6ad-f943-4767-899b-10865e6f3df0",
        "colab": {
          "base_uri": "https://localhost:8080/",
          "height": 346
        }
      },
      "source": [
        "!echo 'Check Current Dir'\n",
        "%cd /content/comp0053/\n",
        "!pwd\n",
        "!ls\n",
        "!pip install -r Requirement.txt\n",
        "!pip install h5py\n",
        "%tensorflow_version 1.x"
      ],
      "execution_count": 2,
      "outputs": [
        {
          "output_type": "stream",
          "text": [
            "Check Current Dir\n",
            "/content/comp0053\n",
            "/content/comp0053\n",
            "COMP0053_EmoPain_Demo.ipynb  helper.py\tRequirement.txt\n",
            "data\t\t\t     README.md\ttrain.py\n",
            "Requirement already satisfied: numpy in /usr/local/lib/python3.6/dist-packages (from -r Requirement.txt (line 1)) (1.18.2)\n",
            "Collecting wget\n",
            "  Downloading https://files.pythonhosted.org/packages/47/6a/62e288da7bcda82b935ff0c6cfe542970f04e29c756b0e147251b2fb251f/wget-3.2.zip\n",
            "Building wheels for collected packages: wget\n",
            "  Building wheel for wget (setup.py) ... \u001b[?25l\u001b[?25hdone\n",
            "  Created wheel for wget: filename=wget-3.2-cp36-none-any.whl size=9682 sha256=1dbe101e013082e1db16e0a381dc1e8438ae0696337588a1c1d648cabe32dbf5\n",
            "  Stored in directory: /root/.cache/pip/wheels/40/15/30/7d8f7cea2902b4db79e3fea550d7d7b85ecb27ef992b618f3f\n",
            "Successfully built wget\n",
            "Installing collected packages: wget\n",
            "Successfully installed wget-3.2\n",
            "Requirement already satisfied: h5py in /usr/local/lib/python3.6/dist-packages (2.10.0)\n",
            "Requirement already satisfied: numpy>=1.7 in /usr/local/lib/python3.6/dist-packages (from h5py) (1.18.2)\n",
            "Requirement already satisfied: six in /usr/local/lib/python3.6/dist-packages (from h5py) (1.12.0)\n",
            "TensorFlow 1.x selected.\n"
          ],
          "name": "stdout"
        }
      ]
    },
    {
      "cell_type": "code",
      "metadata": {
        "id": "ilTsshLFFMr1",
        "colab_type": "code",
        "outputId": "35fd1223-4c6e-49f2-d293-3a6e84b54a44",
        "colab": {
          "base_uri": "https://localhost:8080/",
          "height": 69
        }
      },
      "source": [
        "!pwd\n",
        "!ls"
      ],
      "execution_count": 3,
      "outputs": [
        {
          "output_type": "stream",
          "text": [
            "/content/comp0053\n",
            "COMP0053_EmoPain_Demo.ipynb  helper.py\tRequirement.txt\n",
            "data\t\t\t     README.md\ttrain.py\n"
          ],
          "name": "stdout"
        }
      ]
    },
    {
      "cell_type": "code",
      "metadata": {
        "id": "XueFnNi0JI2B",
        "colab_type": "code",
        "outputId": "157d9cb3-eb69-4458-ad4c-39ce1d6b38cd",
        "colab": {
          "base_uri": "https://localhost:8080/",
          "height": 225
        }
      },
      "source": [
        "from helper import *\n",
        "import scipy\n",
        "\n",
        "movementDataLoader = DataReader('Movementdata') #<- Automatically download data\n",
        "#train_data, valid_data = movementDataLoader.get_data()\n",
        "#movementDataLoader.get_weights(data='Movementdata', name='stack_bilstm.h5')\n",
        "\n",
        "(train_x, train_y), (valid_x, valid_y) = movementDataLoader.more_more_processing(v_stack=False)\n",
        "\n",
        "def _data_reshaping(X_tr, X_va, network_type):\n",
        "    _, win_len, dim = X_tr.shape\n",
        "    print(network_type)\n",
        "    if network_type=='CNN' or network_type=='ConvLSTM':\n",
        "\n",
        "        # make it into (frame_number, dimension, window_size, channel=1) for convNet\n",
        "        X_tr = np.swapaxes(X_tr,1,2)\n",
        "        X_va = np.swapaxes(X_va,1,2)\n",
        "\n",
        "        X_tr = np.reshape(X_tr, (-1, dim, win_len, 1))\n",
        "        X_va = np.reshape(X_va, (-1, dim, win_len, 1))\n",
        "\n",
        "    if network_type=='MLP':\n",
        "        print('MLP...')\n",
        "        X_tr = np.reshape(X_tr, (-1, dim*win_len))\n",
        "        X_va = np.reshape(X_va, (-1, dim*win_len))\n",
        "\n",
        "    return X_tr, X_va\n",
        "\n",
        "\n",
        "# (n, 2, 30)\n",
        "def _shape_changing(x_tr, y_tr, x_va, y_va): #LSTM\n",
        "\n",
        "    segment_size = 30\n",
        "    \n",
        "    NUM_SAMPLES_TR = int(len(x_tr) /segment_size)\n",
        "    NUM_SAMPLES_VA = int(len(x_va) /segment_size)\n",
        "\n",
        "    new_train_x = []\n",
        "    new_train_y = []\n",
        "    for i in range(NUM_SAMPLES_TR-segment_size-1):\n",
        "\n",
        "        temp_x = x_tr[i:i+segment_size]\n",
        "        temp_y = y_tr[i+segment_size]\n",
        "\n",
        "        new_train_x.append(temp_x)\n",
        "        new_train_y.append(temp_y)\n",
        "\n",
        "    new_valid_x = []\n",
        "    new_valid_y = []\n",
        "    for i in range(NUM_SAMPLES_VA-segment_size-1):\n",
        "\n",
        "        temp_x = x_va[i:i+segment_size]\n",
        "        temp_y = y_va[i+segment_size]\n",
        "\n",
        "        new_valid_x.append(temp_x)\n",
        "        new_valid_y.append(temp_y)\n",
        "\n",
        "    new_train_x = np.array(new_train_x)\n",
        "    new_train_y = np.array(new_train_y)\n",
        "\n",
        "    new_valid_x = np.array(new_valid_x)\n",
        "    new_valid_y = np.array(new_valid_y)\n",
        "\n",
        "    return (new_train_x, new_train_y), (new_valid_x, new_valid_y)\n",
        "\n",
        "(train_x, train_y), (valid_x, valid_y) = _shape_changing(train_x, train_y, valid_x, valid_y)\n",
        "\n",
        "print(train_x.shape, train_y.shape)\n",
        "print(valid_x.shape, valid_y.shape)"
      ],
      "execution_count": 4,
      "outputs": [
        {
          "output_type": "stream",
          "text": [
            "Using TensorFlow backend.\n"
          ],
          "name": "stderr"
        },
        {
          "output_type": "stream",
          "text": [
            "Create a ->Movementdata<- folder \n",
            "\n",
            "Now downloading training data\n",
            "\n",
            "Now downloading Validation data\n",
            "Unzipping training data\n",
            "Unzipping validation data\n",
            "There is total of 23 training data\n",
            "There is total of 12 Validation data\n",
            "(11839, 30, 26) (11839, 1)\n",
            "(5250, 30, 26) (5250, 1)\n"
          ],
          "name": "stdout"
        }
      ]
    },
    {
      "cell_type": "code",
      "metadata": {
        "id": "F7fgUL9pOmov",
        "colab_type": "code",
        "outputId": "48d7db75-fa10-45b1-b348-983bcb946894",
        "colab": {
          "base_uri": "https://localhost:8080/",
          "height": 970
        }
      },
      "source": [
        "import keras\n",
        "num_classes = 2\n",
        "train_y = keras.utils.to_categorical(train_y, num_classes)\n",
        "valid_y = keras.utils.to_categorical(valid_y, num_classes)\n",
        "\n",
        "from sklearn.metrics import f1_score\n",
        "\n",
        "from keras.models import Sequential, Model, load_model\n",
        "from keras.layers import Dense, Dropout, LSTM, Bidirectional, Input, GRU\n",
        "from keras.callbacks import ModelCheckpoint\n",
        "\n",
        "model = Sequential()\n",
        "model.add(Bidirectional(LSTM(units=32, return_sequences=True)))\n",
        "model.add(Dropout(0.5))\n",
        "model.add(Bidirectional(LSTM(units=32, return_sequences=True)))\n",
        "model.add(Dropout(0.5))\n",
        "model.add(Bidirectional(LSTM(units=32)))\n",
        "model.add(Dropout(0.5))\n",
        "model.add(Dense(2, activation='sigmoid'))\n",
        "model.compile(optimizer='adam',\n",
        "              loss='categorical_crossentropy',\n",
        "              metrics=['accuracy', f1_m])\n",
        "\n",
        "# checkpoint\n",
        "checkpoint_path = \"stack_bilstm.h5\"\n",
        "\n",
        "#model = load_model(checkpoint_path, custom_objects={'f1_score': f1_score})\n",
        "checkpoint = ModelCheckpoint(filepath=checkpoint_path, save_weights_only=False, verbose=1, save_best_only=True, mode='auto')\n",
        "callbacks_list = [checkpoint]\n",
        "\n",
        "history = model.fit(train_x, train_y, validation_split=0.1, epochs=5, callbacks=callbacks_list)  # starts training"
      ],
      "execution_count": 5,
      "outputs": [
        {
          "output_type": "stream",
          "text": [
            "WARNING:tensorflow:From /usr/local/lib/python3.6/dist-packages/keras/backend/tensorflow_backend.py:66: The name tf.get_default_graph is deprecated. Please use tf.compat.v1.get_default_graph instead.\n",
            "\n",
            "WARNING:tensorflow:From /usr/local/lib/python3.6/dist-packages/keras/optimizers.py:793: The name tf.train.Optimizer is deprecated. Please use tf.compat.v1.train.Optimizer instead.\n",
            "\n",
            "WARNING:tensorflow:From /usr/local/lib/python3.6/dist-packages/keras/backend/tensorflow_backend.py:541: The name tf.placeholder is deprecated. Please use tf.compat.v1.placeholder instead.\n",
            "\n",
            "WARNING:tensorflow:From /usr/local/lib/python3.6/dist-packages/keras/backend/tensorflow_backend.py:4432: The name tf.random_uniform is deprecated. Please use tf.random.uniform instead.\n",
            "\n",
            "WARNING:tensorflow:From /usr/local/lib/python3.6/dist-packages/keras/backend/tensorflow_backend.py:148: The name tf.placeholder_with_default is deprecated. Please use tf.compat.v1.placeholder_with_default instead.\n",
            "\n",
            "WARNING:tensorflow:From /usr/local/lib/python3.6/dist-packages/keras/backend/tensorflow_backend.py:3733: calling dropout (from tensorflow.python.ops.nn_ops) with keep_prob is deprecated and will be removed in a future version.\n",
            "Instructions for updating:\n",
            "Please use `rate` instead of `keep_prob`. Rate should be set to `rate = 1 - keep_prob`.\n",
            "WARNING:tensorflow:From /usr/local/lib/python3.6/dist-packages/keras/backend/tensorflow_backend.py:3576: The name tf.log is deprecated. Please use tf.math.log instead.\n",
            "\n",
            "WARNING:tensorflow:From /tensorflow-1.15.2/python3.6/tensorflow_core/python/ops/math_grad.py:1424: where (from tensorflow.python.ops.array_ops) is deprecated and will be removed in a future version.\n",
            "Instructions for updating:\n",
            "Use tf.where in 2.0, which has the same broadcast rule as np.where\n",
            "WARNING:tensorflow:From /usr/local/lib/python3.6/dist-packages/keras/backend/tensorflow_backend.py:1033: The name tf.assign_add is deprecated. Please use tf.compat.v1.assign_add instead.\n",
            "\n",
            "WARNING:tensorflow:From /usr/local/lib/python3.6/dist-packages/keras/backend/tensorflow_backend.py:1020: The name tf.assign is deprecated. Please use tf.compat.v1.assign instead.\n",
            "\n",
            "WARNING:tensorflow:From /usr/local/lib/python3.6/dist-packages/keras/backend/tensorflow_backend.py:3005: The name tf.Session is deprecated. Please use tf.compat.v1.Session instead.\n",
            "\n",
            "Train on 10655 samples, validate on 1184 samples\n",
            "Epoch 1/5\n",
            "WARNING:tensorflow:From /usr/local/lib/python3.6/dist-packages/keras/backend/tensorflow_backend.py:190: The name tf.get_default_session is deprecated. Please use tf.compat.v1.get_default_session instead.\n",
            "\n",
            "WARNING:tensorflow:From /usr/local/lib/python3.6/dist-packages/keras/backend/tensorflow_backend.py:197: The name tf.ConfigProto is deprecated. Please use tf.compat.v1.ConfigProto instead.\n",
            "\n",
            "WARNING:tensorflow:From /usr/local/lib/python3.6/dist-packages/keras/backend/tensorflow_backend.py:207: The name tf.global_variables is deprecated. Please use tf.compat.v1.global_variables instead.\n",
            "\n",
            "WARNING:tensorflow:From /usr/local/lib/python3.6/dist-packages/keras/backend/tensorflow_backend.py:216: The name tf.is_variable_initialized is deprecated. Please use tf.compat.v1.is_variable_initialized instead.\n",
            "\n",
            "WARNING:tensorflow:From /usr/local/lib/python3.6/dist-packages/keras/backend/tensorflow_backend.py:223: The name tf.variables_initializer is deprecated. Please use tf.compat.v1.variables_initializer instead.\n",
            "\n",
            "10655/10655 [==============================] - 45s 4ms/step - loss: 0.1816 - acc: 0.9435 - f1_m: 0.9422 - val_loss: 0.5543 - val_acc: 0.7576 - val_f1_m: 0.7576\n",
            "\n",
            "Epoch 00001: val_loss improved from inf to 0.55427, saving model to stack_bilstm.h5\n",
            "Epoch 2/5\n",
            "10655/10655 [==============================] - 39s 4ms/step - loss: 0.0842 - acc: 0.9668 - f1_m: 0.9668 - val_loss: 0.4698 - val_acc: 0.8936 - val_f1_m: 0.8757\n",
            "\n",
            "Epoch 00002: val_loss improved from 0.55427 to 0.46977, saving model to stack_bilstm.h5\n",
            "Epoch 3/5\n",
            "10655/10655 [==============================] - 39s 4ms/step - loss: 0.0708 - acc: 0.9711 - f1_m: 0.9704 - val_loss: 0.5121 - val_acc: 0.8809 - val_f1_m: 0.7377\n",
            "\n",
            "Epoch 00003: val_loss did not improve from 0.46977\n",
            "Epoch 4/5\n",
            "10655/10655 [==============================] - 39s 4ms/step - loss: 0.0613 - acc: 0.9758 - f1_m: 0.9752 - val_loss: 0.4470 - val_acc: 0.8877 - val_f1_m: 0.8882\n",
            "\n",
            "Epoch 00004: val_loss improved from 0.46977 to 0.44698, saving model to stack_bilstm.h5\n",
            "Epoch 5/5\n",
            "10655/10655 [==============================] - 39s 4ms/step - loss: 0.0649 - acc: 0.9744 - f1_m: 0.9732 - val_loss: 0.5006 - val_acc: 0.8682 - val_f1_m: 0.8701\n",
            "\n",
            "Epoch 00005: val_loss did not improve from 0.44698\n"
          ],
          "name": "stdout"
        }
      ]
    },
    {
      "cell_type": "code",
      "metadata": {
        "id": "1Nisu4hVceDM",
        "colab_type": "code",
        "outputId": "394958c1-7ec3-44a3-a19f-fe24b3746a5a",
        "colab": {
          "base_uri": "https://localhost:8080/",
          "height": 468
        }
      },
      "source": [
        "from keras.models import load_model\n",
        "\n",
        "model = load_model(checkpoint_path, custom_objects={'f1_m': f1_m})\n",
        "# summarize model.\n",
        "model.summary()\n",
        "\n",
        "#model.load_weights('best_model.hdf5')\n",
        "validation_score = model.evaluate(valid_x, valid_y)\n",
        "\n",
        "for name, score in zip(model.metrics_names, validation_score):\n",
        "    print(f'{name} : {score}')"
      ],
      "execution_count": 6,
      "outputs": [
        {
          "output_type": "stream",
          "text": [
            "Model: \"sequential_1\"\n",
            "_________________________________________________________________\n",
            "Layer (type)                 Output Shape              Param #   \n",
            "=================================================================\n",
            "bidirectional_1 (Bidirection (None, 30, 64)            15104     \n",
            "_________________________________________________________________\n",
            "dropout_1 (Dropout)          (None, 30, 64)            0         \n",
            "_________________________________________________________________\n",
            "bidirectional_2 (Bidirection (None, 30, 64)            24832     \n",
            "_________________________________________________________________\n",
            "dropout_2 (Dropout)          (None, 30, 64)            0         \n",
            "_________________________________________________________________\n",
            "bidirectional_3 (Bidirection (None, 64)                24832     \n",
            "_________________________________________________________________\n",
            "dropout_3 (Dropout)          (None, 64)                0         \n",
            "_________________________________________________________________\n",
            "dense_1 (Dense)              (None, 2)                 130       \n",
            "=================================================================\n",
            "Total params: 64,898\n",
            "Trainable params: 64,898\n",
            "Non-trainable params: 0\n",
            "_________________________________________________________________\n",
            "5250/5250 [==============================] - 4s 789us/step\n",
            "loss : 1.4907224051759889\n",
            "acc : 0.4542857142857143\n",
            "f1_m : 0.4584492725190662\n"
          ],
          "name": "stdout"
        }
      ]
    },
    {
      "cell_type": "code",
      "metadata": {
        "id": "fumICHpx3PL2",
        "colab_type": "code",
        "colab": {
          "base_uri": "https://localhost:8080/",
          "height": 242
        },
        "outputId": "187aa934-b1b8-4a44-9571-f65eabceb0be"
      },
      "source": [
        ""
      ],
      "execution_count": 10,
      "outputs": [
        {
          "output_type": "stream",
          "text": [
            "/content/comp0053\n",
            "COMP0053_EmoPain_Demo.ipynb  helper.py\t  README.md\t   stack_bilstm.h5\n",
            "data\t\t\t     __pycache__  Requirement.txt  train.py\n",
            "[master b62736b] Update helper from colab\n",
            " 1 file changed, 17 insertions(+), 11 deletions(-)\n",
            "Counting objects: 3, done.\n",
            "Delta compression using up to 2 threads.\n",
            "Compressing objects: 100% (3/3), done.\n",
            "Writing objects: 100% (3/3), 437 bytes | 437.00 KiB/s, done.\n",
            "Total 3 (delta 2), reused 0 (delta 0)\n",
            "remote: Resolving deltas: 100% (2/2), completed with 2 local objects.\u001b[K\n",
            "To https://github.com/chengmar09/comp0053.git\n",
            "   f1b78c2..b62736b  master -> master\n"
          ],
          "name": "stdout"
        },
        {
          "output_type": "execute_result",
          "data": {
            "text/plain": [
              ""
            ]
          },
          "metadata": {
            "tags": []
          },
          "execution_count": 10
        }
      ]
    }
  ]
}